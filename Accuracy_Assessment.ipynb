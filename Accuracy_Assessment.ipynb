{
 "cells": [
  {
   "cell_type": "markdown",
   "metadata": {},
   "source": [
    "# Accuracy Assessment\n",
    "\n",
    "To judge how well our classifier does it is critical to provide metrics of how well it does on images it has never seen before. Here we have collected a series of image, \"testing images\", that were not used in training. \n",
    "\n",
    "We organize our testing images in the same file structure as our training dataset:\n",
    "\n",
    "+ Testing_Images \n",
    "    + Buses\n",
    "        - busimage.jpg\n",
    "    + Fedex\n",
    "        - fedeximage.jpg\n",
    "    + Other\n",
    "        - otherimage.jpg\n",
    "        \n",
    "        \n",
    "We then need to read in our predicted labels and compare them to actual: "
   ]
  },
  {
   "cell_type": "markdown",
   "metadata": {},
   "source": [
    "### Organize Predicted and Actual"
   ]
  },
  {
   "cell_type": "code",
   "execution_count": 197,
   "metadata": {},
   "outputs": [],
   "source": [
    "import scripts.label_image\n",
    "import sys\n",
    "import numpy as np\n",
    "import tensorflow as tf\n",
    "import os\n",
    "from datetime import datetime\n",
    "import matplotlib.pyplot as plt\n",
    "import os\n",
    "from PIL import Image, ImageDraw, ImageFont\n",
    "import time\n",
    "import psutil\n",
    "import pandas as pd\n",
    "\n",
    "\n",
    "df = pd.read_csv(r'/home/mmann1123/Dropbox/Apps/predicted_labels.csv')\n",
    "\n"
   ]
  },
  {
   "cell_type": "code",
   "execution_count": 198,
   "metadata": {},
   "outputs": [
    {
     "data": {
      "text/html": [
       "<div>\n",
       "<style scoped>\n",
       "    .dataframe tbody tr th:only-of-type {\n",
       "        vertical-align: middle;\n",
       "    }\n",
       "\n",
       "    .dataframe tbody tr th {\n",
       "        vertical-align: top;\n",
       "    }\n",
       "\n",
       "    .dataframe thead th {\n",
       "        text-align: right;\n",
       "    }\n",
       "</style>\n",
       "<table border=\"1\" class=\"dataframe\">\n",
       "  <thead>\n",
       "    <tr style=\"text-align: right;\">\n",
       "      <th></th>\n",
       "      <th>Path</th>\n",
       "      <th>Date</th>\n",
       "      <th>Class</th>\n",
       "      <th>Prob</th>\n",
       "      <th>File</th>\n",
       "    </tr>\n",
       "  </thead>\n",
       "  <tbody>\n",
       "    <tr>\n",
       "      <th>0</th>\n",
       "      <td>/home/mmann1123/Dropbox/Apps/PiCameraLogger/16...</td>\n",
       "      <td>2018-03-16 10:53:00</td>\n",
       "      <td>largecar</td>\n",
       "      <td>0.381579</td>\n",
       "      <td>Picapture_16_03_2018-10:53:00.jpg</td>\n",
       "    </tr>\n",
       "    <tr>\n",
       "      <th>1</th>\n",
       "      <td>/home/mmann1123/Dropbox/Apps/PiCameraLogger/16...</td>\n",
       "      <td>2018-03-16 15:53:00</td>\n",
       "      <td>fedex</td>\n",
       "      <td>0.934700</td>\n",
       "      <td>Picapture_16_03_2018-15:53:00.jpg</td>\n",
       "    </tr>\n",
       "    <tr>\n",
       "      <th>2</th>\n",
       "      <td>/home/mmann1123/Dropbox/Apps/PiCameraLogger/16...</td>\n",
       "      <td>2018-03-16 12:38:00</td>\n",
       "      <td>largecar</td>\n",
       "      <td>0.372817</td>\n",
       "      <td>Picapture_16_03_2018-12:38:00.jpg</td>\n",
       "    </tr>\n",
       "    <tr>\n",
       "      <th>3</th>\n",
       "      <td>/home/mmann1123/Dropbox/Apps/PiCameraLogger/16...</td>\n",
       "      <td>2018-03-16 07:23:00</td>\n",
       "      <td>car</td>\n",
       "      <td>0.304120</td>\n",
       "      <td>Picapture_16_03_2018-07:23:00.jpg</td>\n",
       "    </tr>\n",
       "    <tr>\n",
       "      <th>4</th>\n",
       "      <td>/home/mmann1123/Dropbox/Apps/PiCameraLogger/16...</td>\n",
       "      <td>2018-03-16 19:15:00</td>\n",
       "      <td>largecar</td>\n",
       "      <td>0.281663</td>\n",
       "      <td>Picapture_16_03_2018-19:15:00.jpg</td>\n",
       "    </tr>\n",
       "  </tbody>\n",
       "</table>\n",
       "</div>"
      ],
      "text/plain": [
       "                                                Path                 Date  \\\n",
       "0  /home/mmann1123/Dropbox/Apps/PiCameraLogger/16...  2018-03-16 10:53:00   \n",
       "1  /home/mmann1123/Dropbox/Apps/PiCameraLogger/16...  2018-03-16 15:53:00   \n",
       "2  /home/mmann1123/Dropbox/Apps/PiCameraLogger/16...  2018-03-16 12:38:00   \n",
       "3  /home/mmann1123/Dropbox/Apps/PiCameraLogger/16...  2018-03-16 07:23:00   \n",
       "4  /home/mmann1123/Dropbox/Apps/PiCameraLogger/16...  2018-03-16 19:15:00   \n",
       "\n",
       "      Class      Prob                               File  \n",
       "0  largecar  0.381579  Picapture_16_03_2018-10:53:00.jpg  \n",
       "1     fedex  0.934700  Picapture_16_03_2018-15:53:00.jpg  \n",
       "2  largecar  0.372817  Picapture_16_03_2018-12:38:00.jpg  \n",
       "3       car  0.304120  Picapture_16_03_2018-07:23:00.jpg  \n",
       "4  largecar  0.281663  Picapture_16_03_2018-19:15:00.jpg  "
      ]
     },
     "execution_count": 198,
     "metadata": {},
     "output_type": "execute_result"
    }
   ],
   "source": [
    "# limit to input of interest\n",
    "df = df[['Path','Date','Class','Prob']]\n",
    "# add file name column\n",
    "df['File'] = df['Path'].map(lambda a: os.path.basename(a))\n",
    "df.head()"
   ]
  },
  {
   "cell_type": "code",
   "execution_count": 199,
   "metadata": {},
   "outputs": [],
   "source": [
    "# map directory and files into labels\n",
    "def get_directory_structure(rootdir):\n",
    "    #Creates a nested dictionary that represents the folder structure of rootdir\n",
    "    dir = {}\n",
    "    rootdir = rootdir.rstrip(os.sep)\n",
    "    start = rootdir.rfind(os.sep) + 1\n",
    "    for path, dirs, files in os.walk(rootdir):\n",
    "        folders = path[start:].split(os.sep)\n",
    "        subdir = dict.fromkeys(files)\n",
    "        parent = reduce(dict.get, folders[:-1], dir)\n",
    "        parent[folders[-1]] = subdir\n",
    "    return dir\n",
    "\n",
    "dir_dict = get_directory_structure(r'./Testing_Images')"
   ]
  },
  {
   "cell_type": "code",
   "execution_count": 200,
   "metadata": {},
   "outputs": [
    {
     "name": "stdout",
     "output_type": "stream",
     "text": [
      "                                                    Path                 Date  \\\n",
      "147    /home/mmann1123/Dropbox/Apps/PiCameraLogger/16...  2018-03-16 09:36:00   \n",
      "454    /home/mmann1123/Dropbox/Apps/PiCameraLogger/16...  2018-03-16 12:26:00   \n",
      "483    /home/mmann1123/Dropbox/Apps/PiCameraLogger/16...  2018-03-16 09:45:00   \n",
      "685    /home/mmann1123/Dropbox/Apps/PiCameraLogger/16...  2018-03-16 09:14:00   \n",
      "12355  /home/mmann1123/Dropbox/Apps/PiCameraLogger/29...  2018-03-29 09:14:00   \n",
      "12456  /home/mmann1123/Dropbox/Apps/PiCameraLogger/29...  2018-03-29 07:15:00   \n",
      "13503  /home/mmann1123/Dropbox/Apps/PiCameraLogger/22...  2018-03-22 11:11:00   \n",
      "13672  /home/mmann1123/Dropbox/Apps/PiCameraLogger/22...  2018-03-22 16:34:00   \n",
      "13800  /home/mmann1123/Dropbox/Apps/PiCameraLogger/22...  2018-03-22 16:27:01   \n",
      "14920  /home/mmann1123/Dropbox/Apps/PiCameraLogger/14...  2018-04-14 08:11:00   \n",
      "14934  /home/mmann1123/Dropbox/Apps/PiCameraLogger/14...  2018-04-14 08:48:00   \n",
      "15056  /home/mmann1123/Dropbox/Apps/PiCameraLogger/14...  2018-04-14 07:35:01   \n",
      "15130  /home/mmann1123/Dropbox/Apps/PiCameraLogger/15...  2018-04-15 11:04:00   \n",
      "16753  /home/mmann1123/Dropbox/Apps/PiCameraLogger/19...  2018-03-19 15:53:00   \n",
      "16812  /home/mmann1123/Dropbox/Apps/PiCameraLogger/19...  2018-03-19 18:12:00   \n",
      "16981  /home/mmann1123/Dropbox/Apps/PiCameraLogger/19...  2018-03-19 08:15:00   \n",
      "17035  /home/mmann1123/Dropbox/Apps/PiCameraLogger/19...  2018-03-19 07:13:00   \n",
      "17147  /home/mmann1123/Dropbox/Apps/PiCameraLogger/19...  2018-03-19 15:49:00   \n",
      "17167  /home/mmann1123/Dropbox/Apps/PiCameraLogger/19...  2018-03-19 15:41:00   \n",
      "17199  /home/mmann1123/Dropbox/Apps/PiCameraLogger/19...  2018-03-19 13:36:00   \n",
      "\n",
      "       Class      Prob                               File Pred  \n",
      "147      bus  0.862229  Picapture_16_03_2018-09:36:00.jpg  bus  \n",
      "454      bus  0.414612  Picapture_16_03_2018-12:26:00.jpg  bus  \n",
      "483    fedex  0.336747  Picapture_16_03_2018-09:45:00.jpg  bus  \n",
      "685      bus  0.671082  Picapture_16_03_2018-09:14:00.jpg  bus  \n",
      "12355    bus  0.950873  Picapture_29_03_2018-09:14:00.jpg  bus  \n",
      "12456    bus  0.958206  Picapture_29_03_2018-07:15:00.jpg  bus  \n",
      "13503  fedex  0.734316  Picapture_22_03_2018-11:11:00.jpg  bus  \n",
      "13672    bus  0.944473  Picapture_22_03_2018-16:34:00.jpg  bus  \n",
      "13800    bus  0.556425  Picapture_22_03_2018-16:27:01.jpg  bus  \n",
      "14920    bus  0.779635  Picapture_14_04_2018-08:11:00.jpg  bus  \n",
      "14934    bus  0.828706  Picapture_14_04_2018-08:48:00.jpg  bus  \n",
      "15056  fedex  0.386964  Picapture_14_04_2018-07:35:01.jpg  bus  \n",
      "15130    bus  0.878935  Picapture_15_04_2018-11:04:00.jpg  bus  \n",
      "16753    bus  0.499593  Picapture_19_03_2018-15:53:00.jpg  bus  \n",
      "16812    bus  0.918815  Picapture_19_03_2018-18:12:00.jpg  bus  \n",
      "16981    bus  0.969770  Picapture_19_03_2018-08:15:00.jpg  bus  \n",
      "17035    bus  0.939145  Picapture_19_03_2018-07:13:00.jpg  bus  \n",
      "17147    bus  0.499530  Picapture_19_03_2018-15:49:00.jpg  bus  \n",
      "17167    bus  0.830820  Picapture_19_03_2018-15:41:00.jpg  bus  \n",
      "17199    bus  0.894641  Picapture_19_03_2018-13:36:00.jpg  bus  \n"
     ]
    }
   ],
   "source": [
    "# find class of all Bus testing images\n",
    "buses = df[df['File'].isin(dir_dict['Testing_Images']['Bus'].keys())] \n",
    "# add predicted label \n",
    "buses.loc[:,'Pred'] = pd.Series('bus', index=buses.index)\n",
    "print(buses)"
   ]
  },
  {
   "cell_type": "code",
   "execution_count": 201,
   "metadata": {},
   "outputs": [],
   "source": [
    "# find class of all Fedex testing images\n",
    "Fedex = df[df['File'].isin(dir_dict['Testing_Images']['Fedex'].keys())] \n",
    "# add predicted label \n",
    "Fedex.loc[:,'Pred'] = pd.Series('fedex', index=Fedex.index)\n",
    "#print(Fedex)"
   ]
  },
  {
   "cell_type": "code",
   "execution_count": 202,
   "metadata": {},
   "outputs": [],
   "source": [
    "# find class of all Fedex testing images\n",
    "Other = df[df['File'].isin(dir_dict['Testing_Images']['Other'].keys())] \n",
    "# add predicted label \n",
    "Other.loc[:,'Pred'] = pd.Series('other', index=Other.index)\n",
    "\n",
    "# rename actual class to other unless it is bus or fedex \n",
    "Other.loc[(Other.Class!='fedex') & (Other.Class!='bus'),'Class'] = pd.Series('other', index=Other.index)\n",
    "#print(Other)"
   ]
  },
  {
   "cell_type": "code",
   "execution_count": 203,
   "metadata": {},
   "outputs": [],
   "source": [
    "# Create unified df with all predictions and actual\n",
    "pred_act  = buses.append([Fedex, Other])"
   ]
  },
  {
   "cell_type": "markdown",
   "metadata": {},
   "source": [
    "### Accuracy Measures"
   ]
  },
  {
   "cell_type": "code",
   "execution_count": 204,
   "metadata": {},
   "outputs": [
    {
     "data": {
      "text/html": [
       "<div>\n",
       "<style scoped>\n",
       "    .dataframe tbody tr th:only-of-type {\n",
       "        vertical-align: middle;\n",
       "    }\n",
       "\n",
       "    .dataframe tbody tr th {\n",
       "        vertical-align: top;\n",
       "    }\n",
       "\n",
       "    .dataframe thead th {\n",
       "        text-align: right;\n",
       "    }\n",
       "</style>\n",
       "<table border=\"1\" class=\"dataframe\">\n",
       "  <thead>\n",
       "    <tr style=\"text-align: right;\">\n",
       "      <th>Predicted</th>\n",
       "      <th>bus</th>\n",
       "      <th>fedex</th>\n",
       "      <th>other</th>\n",
       "    </tr>\n",
       "    <tr>\n",
       "      <th>Class</th>\n",
       "      <th></th>\n",
       "      <th></th>\n",
       "      <th></th>\n",
       "    </tr>\n",
       "  </thead>\n",
       "  <tbody>\n",
       "    <tr>\n",
       "      <th>bus</th>\n",
       "      <td>85.0</td>\n",
       "      <td>0.0</td>\n",
       "      <td>4.761905</td>\n",
       "    </tr>\n",
       "    <tr>\n",
       "      <th>fedex</th>\n",
       "      <td>15.0</td>\n",
       "      <td>90.0</td>\n",
       "      <td>9.523810</td>\n",
       "    </tr>\n",
       "    <tr>\n",
       "      <th>largecar</th>\n",
       "      <td>0.0</td>\n",
       "      <td>10.0</td>\n",
       "      <td>0.000000</td>\n",
       "    </tr>\n",
       "    <tr>\n",
       "      <th>other</th>\n",
       "      <td>0.0</td>\n",
       "      <td>0.0</td>\n",
       "      <td>85.714286</td>\n",
       "    </tr>\n",
       "  </tbody>\n",
       "</table>\n",
       "</div>"
      ],
      "text/plain": [
       "Predicted   bus  fedex      other\n",
       "Class                            \n",
       "bus        85.0    0.0   4.761905\n",
       "fedex      15.0   90.0   9.523810\n",
       "largecar    0.0   10.0   0.000000\n",
       "other       0.0    0.0  85.714286"
      ]
     },
     "execution_count": 204,
     "metadata": {},
     "output_type": "execute_result"
    }
   ],
   "source": [
    "# Confusion Metrics\n",
    "\n",
    "pd.crosstab(pred_act['Class'], pred_act['Pred'],   colnames=['Predicted']).apply(lambda r: 100.0 * r/r.sum())"
   ]
  },
  {
   "cell_type": "code",
   "execution_count": 205,
   "metadata": {},
   "outputs": [
    {
     "data": {
      "text/plain": [
       "0.86885245901639341"
      ]
     },
     "execution_count": 205,
     "metadata": {},
     "output_type": "execute_result"
    }
   ],
   "source": [
    "# Overall accuracy \n",
    "accuracy_score(pred_act['Class'], pred_act['Pred'])    "
   ]
  },
  {
   "cell_type": "code",
   "execution_count": 206,
   "metadata": {},
   "outputs": [
    {
     "data": {
      "text/plain": [
       "0.80657946888624654"
      ]
     },
     "execution_count": 206,
     "metadata": {},
     "output_type": "execute_result"
    }
   ],
   "source": [
    "# Kappa \n",
    "cohen_kappa_score(pred_act['Class'], pred_act['Pred'])    \n",
    "    "
   ]
  },
  {
   "cell_type": "markdown",
   "metadata": {},
   "source": [
    "Looks like there is some confusion between the fedex and bus classes. We can try retraining the model using inception_v3 which should provide more accurate results. Or since both are indications of conjestion, we can leave as is. "
   ]
  }
 ],
 "metadata": {
  "kernelspec": {
   "display_name": "Python 2",
   "language": "python",
   "name": "python2"
  },
  "language_info": {
   "codemirror_mode": {
    "name": "ipython",
    "version": 2
   },
   "file_extension": ".py",
   "mimetype": "text/x-python",
   "name": "python",
   "nbconvert_exporter": "python",
   "pygments_lexer": "ipython2",
   "version": "2.7.13"
  }
 },
 "nbformat": 4,
 "nbformat_minor": 2
}
