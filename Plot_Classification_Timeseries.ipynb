{
 "cells": [
  {
   "cell_type": "code",
   "execution_count": 2,
   "metadata": {},
   "outputs": [
    {
     "name": "stdout",
     "output_type": "stream",
     "text": [
      "('car', 0.91176903)\n",
      "('fedex', 0.99953473)\n",
      "('car', 0.96082217)\n",
      "('car', 0.96958935)\n",
      "('car', 0.97734499)\n",
      "('car', 0.92059386)\n",
      "('car', 0.9848119)\n"
     ]
    },
    {
     "ename": "KeyboardInterrupt",
     "evalue": "",
     "output_type": "error",
     "traceback": [
      "\u001b[0;31m---------------------------------------------------------------------------\u001b[0m",
      "\u001b[0;31mKeyboardInterrupt\u001b[0m                         Traceback (most recent call last)",
      "\u001b[0;32m<ipython-input-2-70ff0c6ac6c4>\u001b[0m in \u001b[0;36m<module>\u001b[0;34m()\u001b[0m\n\u001b[1;32m     57\u001b[0m         \u001b[0;32mwith\u001b[0m \u001b[0mtf\u001b[0m\u001b[0;34m.\u001b[0m\u001b[0mSession\u001b[0m\u001b[0;34m(\u001b[0m\u001b[0mgraph\u001b[0m\u001b[0;34m=\u001b[0m\u001b[0mgraph\u001b[0m\u001b[0;34m)\u001b[0m \u001b[0;32mas\u001b[0m \u001b[0msess\u001b[0m\u001b[0;34m:\u001b[0m\u001b[0;34m\u001b[0m\u001b[0m\n\u001b[1;32m     58\u001b[0m             results = sess.run(output_operation.outputs[0],\n\u001b[0;32m---> 59\u001b[0;31m                   {input_operation.outputs[0]: t})\n\u001b[0m\u001b[1;32m     60\u001b[0m         \u001b[0mresults\u001b[0m \u001b[0;34m=\u001b[0m \u001b[0mnp\u001b[0m\u001b[0;34m.\u001b[0m\u001b[0msqueeze\u001b[0m\u001b[0;34m(\u001b[0m\u001b[0mresults\u001b[0m\u001b[0;34m)\u001b[0m\u001b[0;34m\u001b[0m\u001b[0m\n\u001b[1;32m     61\u001b[0m         \u001b[0mtop_k\u001b[0m \u001b[0;34m=\u001b[0m \u001b[0mresults\u001b[0m\u001b[0;34m.\u001b[0m\u001b[0margsort\u001b[0m\u001b[0;34m(\u001b[0m\u001b[0;34m)\u001b[0m\u001b[0;34m[\u001b[0m\u001b[0;34m-\u001b[0m\u001b[0;36m5\u001b[0m\u001b[0;34m:\u001b[0m\u001b[0;34m]\u001b[0m\u001b[0;34m[\u001b[0m\u001b[0;34m:\u001b[0m\u001b[0;34m:\u001b[0m\u001b[0;34m-\u001b[0m\u001b[0;36m1\u001b[0m\u001b[0;34m]\u001b[0m\u001b[0;34m\u001b[0m\u001b[0m\n",
      "\u001b[0;32m/home/mmann1123/anaconda/envs/tensorflow/lib/python2.7/site-packages/tensorflow/python/client/session.pyc\u001b[0m in \u001b[0;36mrun\u001b[0;34m(self, fetches, feed_dict, options, run_metadata)\u001b[0m\n\u001b[1;32m    898\u001b[0m     \u001b[0;32mtry\u001b[0m\u001b[0;34m:\u001b[0m\u001b[0;34m\u001b[0m\u001b[0m\n\u001b[1;32m    899\u001b[0m       result = self._run(None, fetches, feed_dict, options_ptr,\n\u001b[0;32m--> 900\u001b[0;31m                          run_metadata_ptr)\n\u001b[0m\u001b[1;32m    901\u001b[0m       \u001b[0;32mif\u001b[0m \u001b[0mrun_metadata\u001b[0m\u001b[0;34m:\u001b[0m\u001b[0;34m\u001b[0m\u001b[0m\n\u001b[1;32m    902\u001b[0m         \u001b[0mproto_data\u001b[0m \u001b[0;34m=\u001b[0m \u001b[0mtf_session\u001b[0m\u001b[0;34m.\u001b[0m\u001b[0mTF_GetBuffer\u001b[0m\u001b[0;34m(\u001b[0m\u001b[0mrun_metadata_ptr\u001b[0m\u001b[0;34m)\u001b[0m\u001b[0;34m\u001b[0m\u001b[0m\n",
      "\u001b[0;32m/home/mmann1123/anaconda/envs/tensorflow/lib/python2.7/site-packages/tensorflow/python/client/session.pyc\u001b[0m in \u001b[0;36m_run\u001b[0;34m(self, handle, fetches, feed_dict, options, run_metadata)\u001b[0m\n\u001b[1;32m   1133\u001b[0m     \u001b[0;32mif\u001b[0m \u001b[0mfinal_fetches\u001b[0m \u001b[0;32mor\u001b[0m \u001b[0mfinal_targets\u001b[0m \u001b[0;32mor\u001b[0m \u001b[0;34m(\u001b[0m\u001b[0mhandle\u001b[0m \u001b[0;32mand\u001b[0m \u001b[0mfeed_dict_tensor\u001b[0m\u001b[0;34m)\u001b[0m\u001b[0;34m:\u001b[0m\u001b[0;34m\u001b[0m\u001b[0m\n\u001b[1;32m   1134\u001b[0m       results = self._do_run(handle, final_targets, final_fetches,\n\u001b[0;32m-> 1135\u001b[0;31m                              feed_dict_tensor, options, run_metadata)\n\u001b[0m\u001b[1;32m   1136\u001b[0m     \u001b[0;32melse\u001b[0m\u001b[0;34m:\u001b[0m\u001b[0;34m\u001b[0m\u001b[0m\n\u001b[1;32m   1137\u001b[0m       \u001b[0mresults\u001b[0m \u001b[0;34m=\u001b[0m \u001b[0;34m[\u001b[0m\u001b[0;34m]\u001b[0m\u001b[0;34m\u001b[0m\u001b[0m\n",
      "\u001b[0;32m/home/mmann1123/anaconda/envs/tensorflow/lib/python2.7/site-packages/tensorflow/python/client/session.pyc\u001b[0m in \u001b[0;36m_do_run\u001b[0;34m(self, handle, target_list, fetch_list, feed_dict, options, run_metadata)\u001b[0m\n\u001b[1;32m   1314\u001b[0m     \u001b[0;32mif\u001b[0m \u001b[0mhandle\u001b[0m \u001b[0;32mis\u001b[0m \u001b[0mNone\u001b[0m\u001b[0;34m:\u001b[0m\u001b[0;34m\u001b[0m\u001b[0m\n\u001b[1;32m   1315\u001b[0m       return self._do_call(_run_fn, feeds, fetches, targets, options,\n\u001b[0;32m-> 1316\u001b[0;31m                            run_metadata)\n\u001b[0m\u001b[1;32m   1317\u001b[0m     \u001b[0;32melse\u001b[0m\u001b[0;34m:\u001b[0m\u001b[0;34m\u001b[0m\u001b[0m\n\u001b[1;32m   1318\u001b[0m       \u001b[0;32mreturn\u001b[0m \u001b[0mself\u001b[0m\u001b[0;34m.\u001b[0m\u001b[0m_do_call\u001b[0m\u001b[0;34m(\u001b[0m\u001b[0m_prun_fn\u001b[0m\u001b[0;34m,\u001b[0m \u001b[0mhandle\u001b[0m\u001b[0;34m,\u001b[0m \u001b[0mfeeds\u001b[0m\u001b[0;34m,\u001b[0m \u001b[0mfetches\u001b[0m\u001b[0;34m)\u001b[0m\u001b[0;34m\u001b[0m\u001b[0m\n",
      "\u001b[0;32m/home/mmann1123/anaconda/envs/tensorflow/lib/python2.7/site-packages/tensorflow/python/client/session.pyc\u001b[0m in \u001b[0;36m_do_call\u001b[0;34m(self, fn, *args)\u001b[0m\n\u001b[1;32m   1320\u001b[0m   \u001b[0;32mdef\u001b[0m \u001b[0m_do_call\u001b[0m\u001b[0;34m(\u001b[0m\u001b[0mself\u001b[0m\u001b[0;34m,\u001b[0m \u001b[0mfn\u001b[0m\u001b[0;34m,\u001b[0m \u001b[0;34m*\u001b[0m\u001b[0margs\u001b[0m\u001b[0;34m)\u001b[0m\u001b[0;34m:\u001b[0m\u001b[0;34m\u001b[0m\u001b[0m\n\u001b[1;32m   1321\u001b[0m     \u001b[0;32mtry\u001b[0m\u001b[0;34m:\u001b[0m\u001b[0;34m\u001b[0m\u001b[0m\n\u001b[0;32m-> 1322\u001b[0;31m       \u001b[0;32mreturn\u001b[0m \u001b[0mfn\u001b[0m\u001b[0;34m(\u001b[0m\u001b[0;34m*\u001b[0m\u001b[0margs\u001b[0m\u001b[0;34m)\u001b[0m\u001b[0;34m\u001b[0m\u001b[0m\n\u001b[0m\u001b[1;32m   1323\u001b[0m     \u001b[0;32mexcept\u001b[0m \u001b[0merrors\u001b[0m\u001b[0;34m.\u001b[0m\u001b[0mOpError\u001b[0m \u001b[0;32mas\u001b[0m \u001b[0me\u001b[0m\u001b[0;34m:\u001b[0m\u001b[0;34m\u001b[0m\u001b[0m\n\u001b[1;32m   1324\u001b[0m       \u001b[0mmessage\u001b[0m \u001b[0;34m=\u001b[0m \u001b[0mcompat\u001b[0m\u001b[0;34m.\u001b[0m\u001b[0mas_text\u001b[0m\u001b[0;34m(\u001b[0m\u001b[0me\u001b[0m\u001b[0;34m.\u001b[0m\u001b[0mmessage\u001b[0m\u001b[0;34m)\u001b[0m\u001b[0;34m\u001b[0m\u001b[0m\n",
      "\u001b[0;32m/home/mmann1123/anaconda/envs/tensorflow/lib/python2.7/site-packages/tensorflow/python/client/session.pyc\u001b[0m in \u001b[0;36m_run_fn\u001b[0;34m(feed_dict, fetch_list, target_list, options, run_metadata)\u001b[0m\n\u001b[1;32m   1305\u001b[0m       \u001b[0mself\u001b[0m\u001b[0;34m.\u001b[0m\u001b[0m_extend_graph\u001b[0m\u001b[0;34m(\u001b[0m\u001b[0;34m)\u001b[0m\u001b[0;34m\u001b[0m\u001b[0m\n\u001b[1;32m   1306\u001b[0m       return self._call_tf_sessionrun(\n\u001b[0;32m-> 1307\u001b[0;31m           options, feed_dict, fetch_list, target_list, run_metadata)\n\u001b[0m\u001b[1;32m   1308\u001b[0m \u001b[0;34m\u001b[0m\u001b[0m\n\u001b[1;32m   1309\u001b[0m     \u001b[0;32mdef\u001b[0m \u001b[0m_prun_fn\u001b[0m\u001b[0;34m(\u001b[0m\u001b[0mhandle\u001b[0m\u001b[0;34m,\u001b[0m \u001b[0mfeed_dict\u001b[0m\u001b[0;34m,\u001b[0m \u001b[0mfetch_list\u001b[0m\u001b[0;34m)\u001b[0m\u001b[0;34m:\u001b[0m\u001b[0;34m\u001b[0m\u001b[0m\n",
      "\u001b[0;32m/home/mmann1123/anaconda/envs/tensorflow/lib/python2.7/site-packages/tensorflow/python/client/session.pyc\u001b[0m in \u001b[0;36m_call_tf_sessionrun\u001b[0;34m(self, options, feed_dict, fetch_list, target_list, run_metadata)\u001b[0m\n\u001b[1;32m   1407\u001b[0m       return tf_session.TF_SessionRun_wrapper(\n\u001b[1;32m   1408\u001b[0m           \u001b[0mself\u001b[0m\u001b[0;34m.\u001b[0m\u001b[0m_session\u001b[0m\u001b[0;34m,\u001b[0m \u001b[0moptions\u001b[0m\u001b[0;34m,\u001b[0m \u001b[0mfeed_dict\u001b[0m\u001b[0;34m,\u001b[0m \u001b[0mfetch_list\u001b[0m\u001b[0;34m,\u001b[0m \u001b[0mtarget_list\u001b[0m\u001b[0;34m,\u001b[0m\u001b[0;34m\u001b[0m\u001b[0m\n\u001b[0;32m-> 1409\u001b[0;31m           run_metadata)\n\u001b[0m\u001b[1;32m   1410\u001b[0m     \u001b[0;32melse\u001b[0m\u001b[0;34m:\u001b[0m\u001b[0;34m\u001b[0m\u001b[0m\n\u001b[1;32m   1411\u001b[0m       \u001b[0;32mwith\u001b[0m \u001b[0merrors\u001b[0m\u001b[0;34m.\u001b[0m\u001b[0mraise_exception_on_not_ok_status\u001b[0m\u001b[0;34m(\u001b[0m\u001b[0;34m)\u001b[0m \u001b[0;32mas\u001b[0m \u001b[0mstatus\u001b[0m\u001b[0;34m:\u001b[0m\u001b[0;34m\u001b[0m\u001b[0m\n",
      "\u001b[0;31mKeyboardInterrupt\u001b[0m: "
     ]
    }
   ],
   "source": [
    "restart_df = True\n",
    "\n",
    "# run from python\n",
    "import scripts.label_image \n",
    "from scripts.read_tensor_from_image_file import read_tensor_from_image_file\n",
    "from scripts.load_labels import load_labels\n",
    "from scripts.load_graph import load_graph\n",
    "import sys\n",
    "import numpy as np\n",
    "import tensorflow as tf\n",
    "import os\n",
    "from datetime import datetime\n",
    "import matplotlib.pyplot as plt\n",
    "import os\n",
    "from PIL import Image, ImageDraw, ImageFont\n",
    "import time\n",
    "import psutil\n",
    "import pandas as pd\n",
    "\n",
    "\n",
    "input_height = 224\n",
    "input_width = 224\n",
    "input_mean = 128\n",
    "input_std = 128\n",
    "input_layer = \"input\"\n",
    "output_layer = \"final_result\"\n",
    "ARCHITECTURE = \"mobilenet_1.0_224\"\n",
    "label_file = r'/home/mmann1123/Documents/PiCameraClassifier/tf_files/'+ARCHITECTURE+'_retrained_labels.txt'\n",
    "model_file = r'/home/mmann1123/Documents/PiCameraClassifier/tf_files/'+ARCHITECTURE+'_retrained_graph.pb'\n",
    " \n",
    "\n",
    "###############################\n",
    "# iterate across series of photos \n",
    "os.chdir(r'/home/mmann1123/Dropbox/Apps/PiCameraLogger/')\n",
    "rootdir = os.getcwd()\n",
    "\n",
    "# set up storage for classifications or load existing csv of classifications\n",
    "if restart_df == True: \n",
    "    df = pd.DataFrame(columns=['Path','Date','Class','Prob'])\n",
    "else:\n",
    "    df = pd.read_csv('/home/mmann1123/Documents/PiCameraClassifier/predicted_labels.csv', index_col=0)\n",
    "\n",
    "for dir, dirs, files in os.walk(rootdir):\n",
    "    for file in files:\n",
    "        if file == '.dropbox' or file =='predicted_labels.csv'or len(df[df['Path'].str.contains(file)])>0:\n",
    "            #print(file + ' already exists in df')\n",
    "            continue\n",
    "        file_name = os.path.join(dir, file)\n",
    "        graph = load_graph(model_file)\n",
    "        t = read_tensor_from_image_file(file_name,input_height=input_height,input_width=input_width,input_mean=input_mean,input_std=input_std)\n",
    "        input_name = \"import/\" + input_layer\n",
    "        output_name = \"import/\" + output_layer\n",
    "        input_operation = graph.get_operation_by_name(input_name)\n",
    "        output_operation = graph.get_operation_by_name(output_name)\n",
    "        with tf.Session(graph=graph) as sess:\n",
    "            results = sess.run(output_operation.outputs[0],\n",
    "                  {input_operation.outputs[0]: t})\n",
    "        results = np.squeeze(results)\n",
    "        top_k = results.argsort()[-5:][::-1]\n",
    "        labels = load_labels(label_file)\n",
    "        image = Image.open( file_name)\n",
    "        font_type = ImageFont.truetype('/home/mmann1123/Documents/Fonts/unifont-10.0.07.ttf',25)\n",
    "        draw = ImageDraw.Draw(image)\n",
    "        draw.text(xy =(50,50),text=labels[top_k[0]]+' '+np.array2string(results[top_k[0]]),fill=(255,255,255), font=font_type)\n",
    "        #image.show()\n",
    "        \n",
    "        #store path class date\n",
    "        file_name2 = os.path.splitext(file_name)[0]\n",
    "        date_in = file_name2.split(\"Picapture_\")[1]\n",
    "        date_time = datetime.strptime(date_in, \"%d_%m_%Y-%H:%M:%S\")\n",
    "        df = df.append({'Path': file_name, 'Date': date_time, 'Class': labels[top_k[0]], 'Prob': results[top_k[0]]}, ignore_index=True) \n",
    "        print(labels[top_k[0]], results[top_k[0]])\n",
    "\n"
   ]
  },
  {
   "cell_type": "code",
   "execution_count": null,
   "metadata": {},
   "outputs": [],
   "source": [
    "os.chdir(r'/home/mmann1123/Documents/PiCameraClassifier/')\n",
    "\n",
    "df.to_csv('./predicted_labels_inception.csv')"
   ]
  },
  {
   "cell_type": "code",
   "execution_count": 4,
   "metadata": {},
   "outputs": [
    {
     "data": {
      "text/html": [
       "<div>\n",
       "<style scoped>\n",
       "    .dataframe tbody tr th:only-of-type {\n",
       "        vertical-align: middle;\n",
       "    }\n",
       "\n",
       "    .dataframe tbody tr th {\n",
       "        vertical-align: top;\n",
       "    }\n",
       "\n",
       "    .dataframe thead th {\n",
       "        text-align: right;\n",
       "    }\n",
       "</style>\n",
       "<table border=\"1\" class=\"dataframe\">\n",
       "  <thead>\n",
       "    <tr style=\"text-align: right;\">\n",
       "      <th></th>\n",
       "      <th>Path</th>\n",
       "      <th>Date</th>\n",
       "      <th>Class</th>\n",
       "      <th>Prob</th>\n",
       "    </tr>\n",
       "  </thead>\n",
       "  <tbody>\n",
       "    <tr>\n",
       "      <th>18048</th>\n",
       "      <td>/home/mmann1123/Dropbox/Apps/PiCameraLogger/06...</td>\n",
       "      <td>2018-04-06 07:33:00</td>\n",
       "      <td>car</td>\n",
       "      <td>0.967370</td>\n",
       "    </tr>\n",
       "    <tr>\n",
       "      <th>18049</th>\n",
       "      <td>/home/mmann1123/Dropbox/Apps/PiCameraLogger/06...</td>\n",
       "      <td>2018-04-06 10:02:00</td>\n",
       "      <td>car</td>\n",
       "      <td>0.779900</td>\n",
       "    </tr>\n",
       "    <tr>\n",
       "      <th>18050</th>\n",
       "      <td>/home/mmann1123/Dropbox/Apps/PiCameraLogger/06...</td>\n",
       "      <td>2018-04-06 09:06:01</td>\n",
       "      <td>car</td>\n",
       "      <td>0.985861</td>\n",
       "    </tr>\n",
       "    <tr>\n",
       "      <th>18051</th>\n",
       "      <td>/home/mmann1123/Dropbox/Apps/PiCameraLogger/06...</td>\n",
       "      <td>2018-04-06 07:24:00</td>\n",
       "      <td>fedex</td>\n",
       "      <td>0.648937</td>\n",
       "    </tr>\n",
       "    <tr>\n",
       "      <th>18052</th>\n",
       "      <td>/home/mmann1123/Dropbox/Apps/PiCameraLogger/06...</td>\n",
       "      <td>2018-04-06 15:11:00</td>\n",
       "      <td>car</td>\n",
       "      <td>0.999943</td>\n",
       "    </tr>\n",
       "  </tbody>\n",
       "</table>\n",
       "</div>"
      ],
      "text/plain": [
       "                                                    Path                 Date  \\\n",
       "18048  /home/mmann1123/Dropbox/Apps/PiCameraLogger/06...  2018-04-06 07:33:00   \n",
       "18049  /home/mmann1123/Dropbox/Apps/PiCameraLogger/06...  2018-04-06 10:02:00   \n",
       "18050  /home/mmann1123/Dropbox/Apps/PiCameraLogger/06...  2018-04-06 09:06:01   \n",
       "18051  /home/mmann1123/Dropbox/Apps/PiCameraLogger/06...  2018-04-06 07:24:00   \n",
       "18052  /home/mmann1123/Dropbox/Apps/PiCameraLogger/06...  2018-04-06 15:11:00   \n",
       "\n",
       "       Class      Prob  \n",
       "18048    car  0.967370  \n",
       "18049    car  0.779900  \n",
       "18050    car  0.985861  \n",
       "18051  fedex  0.648937  \n",
       "18052    car  0.999943  "
      ]
     },
     "execution_count": 4,
     "metadata": {},
     "output_type": "execute_result"
    }
   ],
   "source": [
    "df.tail()"
   ]
  },
  {
   "cell_type": "code",
   "execution_count": 13,
   "metadata": {},
   "outputs": [
    {
     "data": {
      "text/html": [
       "<div>\n",
       "<style scoped>\n",
       "    .dataframe tbody tr th:only-of-type {\n",
       "        vertical-align: middle;\n",
       "    }\n",
       "\n",
       "    .dataframe tbody tr th {\n",
       "        vertical-align: top;\n",
       "    }\n",
       "\n",
       "    .dataframe thead th {\n",
       "        text-align: right;\n",
       "    }\n",
       "</style>\n",
       "<table border=\"1\" class=\"dataframe\">\n",
       "  <thead>\n",
       "    <tr style=\"text-align: right;\">\n",
       "      <th></th>\n",
       "      <th>Date</th>\n",
       "      <th>Path</th>\n",
       "      <th>Class</th>\n",
       "      <th>Prob</th>\n",
       "    </tr>\n",
       "  </thead>\n",
       "  <tbody>\n",
       "    <tr>\n",
       "      <th>18048</th>\n",
       "      <td>2018-04-06 07:33:00</td>\n",
       "      <td>/home/mmann1123/Dropbox/Apps/PiCameraLogger/06...</td>\n",
       "      <td>car</td>\n",
       "      <td>0.967370</td>\n",
       "    </tr>\n",
       "    <tr>\n",
       "      <th>18049</th>\n",
       "      <td>2018-04-06 10:02:00</td>\n",
       "      <td>/home/mmann1123/Dropbox/Apps/PiCameraLogger/06...</td>\n",
       "      <td>car</td>\n",
       "      <td>0.779900</td>\n",
       "    </tr>\n",
       "    <tr>\n",
       "      <th>18050</th>\n",
       "      <td>2018-04-06 09:06:01</td>\n",
       "      <td>/home/mmann1123/Dropbox/Apps/PiCameraLogger/06...</td>\n",
       "      <td>car</td>\n",
       "      <td>0.985861</td>\n",
       "    </tr>\n",
       "    <tr>\n",
       "      <th>18051</th>\n",
       "      <td>2018-04-06 07:24:00</td>\n",
       "      <td>/home/mmann1123/Dropbox/Apps/PiCameraLogger/06...</td>\n",
       "      <td>fedex</td>\n",
       "      <td>0.648937</td>\n",
       "    </tr>\n",
       "    <tr>\n",
       "      <th>18052</th>\n",
       "      <td>2018-04-06 15:11:00</td>\n",
       "      <td>/home/mmann1123/Dropbox/Apps/PiCameraLogger/06...</td>\n",
       "      <td>car</td>\n",
       "      <td>0.999943</td>\n",
       "    </tr>\n",
       "  </tbody>\n",
       "</table>\n",
       "</div>"
      ],
      "text/plain": [
       "                      Date                                               Path  \\\n",
       "18048  2018-04-06 07:33:00  /home/mmann1123/Dropbox/Apps/PiCameraLogger/06...   \n",
       "18049  2018-04-06 10:02:00  /home/mmann1123/Dropbox/Apps/PiCameraLogger/06...   \n",
       "18050  2018-04-06 09:06:01  /home/mmann1123/Dropbox/Apps/PiCameraLogger/06...   \n",
       "18051  2018-04-06 07:24:00  /home/mmann1123/Dropbox/Apps/PiCameraLogger/06...   \n",
       "18052  2018-04-06 15:11:00  /home/mmann1123/Dropbox/Apps/PiCameraLogger/06...   \n",
       "\n",
       "       Class      Prob  \n",
       "18048    car  0.967370  \n",
       "18049    car  0.779900  \n",
       "18050    car  0.985861  \n",
       "18051  fedex  0.648937  \n",
       "18052    car  0.999943  "
      ]
     },
     "execution_count": 13,
     "metadata": {},
     "output_type": "execute_result"
    }
   ],
   "source": [
    "df = pd.read_csv('./predicted_labels.csv',)\n",
    "df = df.loc[:,['Date','Path','Class','Prob']]\n",
    "     #   date_time = \n",
    "\n",
    "df.tail()\n"
   ]
  },
  {
   "cell_type": "markdown",
   "metadata": {},
   "source": [
    "## FedEx Truck Counts \n",
    "Here we count the number of high probability FedEx truck based on a photo every 2 minutes. "
   ]
  },
  {
   "cell_type": "code",
   "execution_count": 14,
   "metadata": {},
   "outputs": [
    {
     "data": {
      "text/plain": [
       "<matplotlib.axes._subplots.AxesSubplot at 0x7fd616649710>"
      ]
     },
     "execution_count": 14,
     "metadata": {},
     "output_type": "execute_result"
    },
    {
     "data": {
      "image/png": "[encoded data removed]",
      "text/plain": [
       "<matplotlib.figure.Figure at 0x7fd623640d50>"
      ]
     },
     "metadata": {},
     "output_type": "display_data"
    }
   ],
   "source": [
    "threshhold = 0.75\n",
    "df.index =  pd.to_datetime(df.Date, format=\"%Y-%m-%d %H:%M:%S\")\n",
    "df.sort_index(inplace=True)\n",
    "fedex = df.copy()\n",
    "fedex = fedex.assign(Count=pd.Series([0] * len(fedex['Date'])).values)\n",
    "fedex.loc[(fedex.Prob > threshhold) & (fedex.Class == 'fedex') ,'Count' ] =1\n",
    "fedex = fedex.assign(CumSum=pd.Series(fedex.Count.cumsum()  ).values)\n",
    "fedex.CumSum.plot()"
   ]
  },
  {
   "cell_type": "code",
   "execution_count": null,
   "metadata": {
    "collapsed": true
   },
   "outputs": [],
   "source": [
    " "
   ]
  },
  {
   "cell_type": "code",
   "execution_count": 15,
   "metadata": {},
   "outputs": [
    {
     "data": {
      "text/html": [
       "<div>\n",
       "<style scoped>\n",
       "    .dataframe tbody tr th:only-of-type {\n",
       "        vertical-align: middle;\n",
       "    }\n",
       "\n",
       "    .dataframe tbody tr th {\n",
       "        vertical-align: top;\n",
       "    }\n",
       "\n",
       "    .dataframe thead th {\n",
       "        text-align: right;\n",
       "    }\n",
       "</style>\n",
       "<table border=\"1\" class=\"dataframe\">\n",
       "  <thead>\n",
       "    <tr style=\"text-align: right;\">\n",
       "      <th></th>\n",
       "      <th>Date</th>\n",
       "      <th>Path</th>\n",
       "      <th>Class</th>\n",
       "      <th>Prob</th>\n",
       "      <th>Count</th>\n",
       "      <th>CumSum</th>\n",
       "      <th>Day</th>\n",
       "    </tr>\n",
       "    <tr>\n",
       "      <th>Date</th>\n",
       "      <th></th>\n",
       "      <th></th>\n",
       "      <th></th>\n",
       "      <th></th>\n",
       "      <th></th>\n",
       "      <th></th>\n",
       "      <th></th>\n",
       "    </tr>\n",
       "  </thead>\n",
       "  <tbody>\n",
       "    <tr>\n",
       "      <th>2018-03-14 08:48:00</th>\n",
       "      <td>2018-03-14 08:48:00</td>\n",
       "      <td>/home/mmann1123/Dropbox/Apps/PiCameraLogger/14...</td>\n",
       "      <td>junk</td>\n",
       "      <td>0.452966</td>\n",
       "      <td>0</td>\n",
       "      <td>0</td>\n",
       "      <td>Wednesday</td>\n",
       "    </tr>\n",
       "    <tr>\n",
       "      <th>2018-03-14 08:50:00</th>\n",
       "      <td>2018-03-14 08:50:00</td>\n",
       "      <td>/home/mmann1123/Dropbox/Apps/PiCameraLogger/14...</td>\n",
       "      <td>car</td>\n",
       "      <td>0.666351</td>\n",
       "      <td>0</td>\n",
       "      <td>0</td>\n",
       "      <td>Wednesday</td>\n",
       "    </tr>\n",
       "    <tr>\n",
       "      <th>2018-03-14 08:52:00</th>\n",
       "      <td>2018-03-14 08:52:00</td>\n",
       "      <td>/home/mmann1123/Dropbox/Apps/PiCameraLogger/14...</td>\n",
       "      <td>junk</td>\n",
       "      <td>0.815357</td>\n",
       "      <td>0</td>\n",
       "      <td>0</td>\n",
       "      <td>Wednesday</td>\n",
       "    </tr>\n",
       "    <tr>\n",
       "      <th>2018-03-14 08:54:00</th>\n",
       "      <td>2018-03-14 08:54:00</td>\n",
       "      <td>/home/mmann1123/Dropbox/Apps/PiCameraLogger/14...</td>\n",
       "      <td>junk</td>\n",
       "      <td>0.414256</td>\n",
       "      <td>0</td>\n",
       "      <td>0</td>\n",
       "      <td>Wednesday</td>\n",
       "    </tr>\n",
       "    <tr>\n",
       "      <th>2018-03-14 08:56:00</th>\n",
       "      <td>2018-03-14 08:56:00</td>\n",
       "      <td>/home/mmann1123/Dropbox/Apps/PiCameraLogger/14...</td>\n",
       "      <td>junk</td>\n",
       "      <td>0.646124</td>\n",
       "      <td>0</td>\n",
       "      <td>0</td>\n",
       "      <td>Wednesday</td>\n",
       "    </tr>\n",
       "  </tbody>\n",
       "</table>\n",
       "</div>"
      ],
      "text/plain": [
       "                                    Date  \\\n",
       "Date                                       \n",
       "2018-03-14 08:48:00  2018-03-14 08:48:00   \n",
       "2018-03-14 08:50:00  2018-03-14 08:50:00   \n",
       "2018-03-14 08:52:00  2018-03-14 08:52:00   \n",
       "2018-03-14 08:54:00  2018-03-14 08:54:00   \n",
       "2018-03-14 08:56:00  2018-03-14 08:56:00   \n",
       "\n",
       "                                                                  Path Class  \\\n",
       "Date                                                                           \n",
       "2018-03-14 08:48:00  /home/mmann1123/Dropbox/Apps/PiCameraLogger/14...  junk   \n",
       "2018-03-14 08:50:00  /home/mmann1123/Dropbox/Apps/PiCameraLogger/14...   car   \n",
       "2018-03-14 08:52:00  /home/mmann1123/Dropbox/Apps/PiCameraLogger/14...  junk   \n",
       "2018-03-14 08:54:00  /home/mmann1123/Dropbox/Apps/PiCameraLogger/14...  junk   \n",
       "2018-03-14 08:56:00  /home/mmann1123/Dropbox/Apps/PiCameraLogger/14...  junk   \n",
       "\n",
       "                         Prob  Count  CumSum        Day  \n",
       "Date                                                     \n",
       "2018-03-14 08:48:00  0.452966      0       0  Wednesday  \n",
       "2018-03-14 08:50:00  0.666351      0       0  Wednesday  \n",
       "2018-03-14 08:52:00  0.815357      0       0  Wednesday  \n",
       "2018-03-14 08:54:00  0.414256      0       0  Wednesday  \n",
       "2018-03-14 08:56:00  0.646124      0       0  Wednesday  "
      ]
     },
     "execution_count": 15,
     "metadata": {},
     "output_type": "execute_result"
    },
    {
     "data": {
      "image/png": "[encoded data removed]",
      "text/plain": [
       "<matplotlib.figure.Figure at 0x7fd620841990>"
      ]
     },
     "metadata": {},
     "output_type": "display_data"
    }
   ],
   "source": [
    "fedex = fedex.assign(Day=pd.Series(fedex.index.strftime('%A')).values)\n",
    "fedex[['Day', 'Count']].groupby('Day').sum().plot(kind='bar', legend=None)\n",
    "fedex.head()\n"
   ]
  },
  {
   "cell_type": "markdown",
   "metadata": {},
   "source": [
    "## county by hour excluding weekends"
   ]
  },
  {
   "cell_type": "code",
   "execution_count": 16,
   "metadata": {},
   "outputs": [
    {
     "data": {
      "text/plain": [
       "<matplotlib.axes._subplots.AxesSubplot at 0x7fd6202880d0>"
      ]
     },
     "execution_count": 16,
     "metadata": {},
     "output_type": "execute_result"
    },
    {
     "data": {
      "image/png": "[encoded data removed]",
      "text/plain": [
       "<matplotlib.figure.Figure at 0x7fd62085b690>"
      ]
     },
     "metadata": {},
     "output_type": "display_data"
    }
   ],
   "source": [
    "fedex = fedex.assign(Hour=pd.Series(fedex.index.strftime('%H')).values)\n",
    "# remove weekends \n",
    "fedex = fedex.loc[(fedex.Day != \"Saturday\" ) & (fedex.Day != \"Sunday\")  ]\n",
    "fedex[['Hour', 'Count']].groupby('Hour').sum().plot(kind='bar', legend=None)\n"
   ]
  },
  {
   "cell_type": "markdown",
   "metadata": {},
   "source": [
    "## percent by hour excluding weekends\n"
   ]
  },
  {
   "cell_type": "code",
   "execution_count": 17,
   "metadata": {},
   "outputs": [
    {
     "data": {
      "text/plain": [
       "<matplotlib.axes._subplots.AxesSubplot at 0x7fd620637050>"
      ]
     },
     "execution_count": 17,
     "metadata": {},
     "output_type": "execute_result"
    },
    {
     "data": {
      "image/png": "[encoded data removed]",
      "text/plain": [
       "<matplotlib.figure.Figure at 0x7fd6202d7550>"
      ]
     },
     "metadata": {},
     "output_type": "display_data"
    }
   ],
   "source": [
    "fedex.head(500)\n",
    "fedex = fedex.assign(Ones=pd.Series([1] * len(fedex['Date'])).values)\n",
    "image_h_count = fedex[['Hour', 'Ones']].groupby('Hour').sum()#.plot(kind='bar', legend=None)\n",
    "fedex_h_count = fedex[['Hour', 'Count']].groupby('Hour').sum()\n",
    "result = pd.concat([fedex_h_count, image_h_count], axis=1, join='inner')\n",
    "result['p_fedex_image'] = result.Count / result.Ones * 100\n",
    "result.p_fedex_image.plot(kind='bar')\n",
    " "
   ]
  },
  {
   "cell_type": "markdown",
   "metadata": {},
   "source": [
    "# Bus Counts \n",
    "Here we count the number of high probability Buses based on a photo every 2 minutes. "
   ]
  },
  {
   "cell_type": "code",
   "execution_count": 65,
   "metadata": {},
   "outputs": [
    {
     "data": {
      "text/plain": [
       "<matplotlib.axes._subplots.AxesSubplot at 0x7fcb3400e710>"
      ]
     },
     "execution_count": 65,
     "metadata": {},
     "output_type": "execute_result"
    },
    {
     "data": {
      "image/png": "[encoded data removed]",
      "text/plain": [
       "<matplotlib.figure.Figure at 0x7fcb25b91110>"
      ]
     },
     "metadata": {},
     "output_type": "display_data"
    }
   ],
   "source": [
    "df.index =  pd.to_datetime(df.Date, format=\"%Y-%m-%d %H:%M:%S\")\n",
    "df.sort_index(inplace=True)\n",
    "bus = df.copy()\n",
    "bus = bus.assign(Count=pd.Series([0] * len(bus['Date'])).values)\n",
    "bus.loc[(bus.Prob > threshhold) & (bus.Class == 'bus') ,'Count' ] =1\n",
    "bus = bus.assign(CumSum=pd.Series(bus.Count.cumsum()  ).values)\n",
    "bus.CumSum.plot()\n",
    " "
   ]
  },
  {
   "cell_type": "code",
   "execution_count": 66,
   "metadata": {},
   "outputs": [
    {
     "data": {
      "text/plain": [
       "<matplotlib.axes._subplots.AxesSubplot at 0x7fcb22af5190>"
      ]
     },
     "execution_count": 66,
     "metadata": {},
     "output_type": "execute_result"
    },
    {
     "data": {
      "image/png": "[encoded data removed]",
      "text/plain": [
       "<matplotlib.figure.Figure at 0x7fcb2593a250>"
      ]
     },
     "metadata": {},
     "output_type": "display_data"
    }
   ],
   "source": [
    "bus = bus.assign(Day=pd.Series(bus.index.strftime('%A')).values)\n",
    "bus[['Day', 'Count']].groupby('Day').sum().plot(kind='bar', legend=None)\n"
   ]
  },
  {
   "cell_type": "code",
   "execution_count": 68,
   "metadata": {},
   "outputs": [
    {
     "data": {
      "text/plain": [
       "array([u'Wednesday', u'Thursday', u'Friday', u'Monday', u'Tuesday'], dtype=object)"
      ]
     },
     "execution_count": 68,
     "metadata": {},
     "output_type": "execute_result"
    },
    {
     "data": {
      "image/png": "[encoded data removed]",
      "text/plain": [
       "<matplotlib.figure.Figure at 0x7fcb67998890>"
      ]
     },
     "metadata": {},
     "output_type": "display_data"
    }
   ],
   "source": [
    "bus = bus.assign(Hour=pd.Series(bus.index.strftime('%H')).values)\n",
    "\n",
    "# remove weekends \n",
    "bus = bus.loc[(bus.Day != \"Saturday\" ) & (bus.Day != \"Sunday\")  ]\n",
    "\n",
    "bus[['Hour', 'Count']].groupby('Hour').sum().plot(kind='bar', legend=None)\n",
    "bus['Day'].unique()"
   ]
  },
  {
   "cell_type": "code",
   "execution_count": null,
   "metadata": {
    "collapsed": true
   },
   "outputs": [],
   "source": []
  }
 ],
 "metadata": {
  "kernelspec": {
   "display_name": "Python 2",
   "language": "python",
   "name": "python2"
  },
  "language_info": {
   "codemirror_mode": {
    "name": "ipython",
    "version": 2
   },
   "file_extension": ".py",
   "mimetype": "text/x-python",
   "name": "python",
   "nbconvert_exporter": "python",
   "pygments_lexer": "ipython2",
   "version": "2.7.13"
  }
 },
 "nbformat": 4,
 "nbformat_minor": 2
}
